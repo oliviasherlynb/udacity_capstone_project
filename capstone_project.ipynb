{
 "cells": [
  {
   "cell_type": "markdown",
   "metadata": {},
   "source": [
    "# Capstone Project\n",
    "## Udacity Data Engineering Nanodegree\n",
    "### Project description and goals\n",
    "The goal of this project is to build a data warehouse as a source-of-truth database, allowing a group of climate data scientists to have easier access to the data they need for their climate model and for further insights exploration. They're looking to better undrestand the relationship between world travel, world temperature, and world emissions in the United States.\n",
    "\n",
    "#### Project steps:\n",
    "1. Scope the project and gather data\n",
    "2. Explore, assess, and clean the data\n",
    "3. Define data model\n",
    "4. Run ETL to model the data\n",
    "5. Project write up"
   ]
  },
  {
   "cell_type": "code",
   "execution_count": 1,
   "metadata": {},
   "outputs": [],
   "source": [
    "# Imports and installs\n",
    "import pandas as pd\n",
    "import numpy as np"
   ]
  },
  {
   "cell_type": "markdown",
   "metadata": {},
   "source": [
    "## 1. Project Scope and Gathering Data\n",
    "#### Scope of project\n",
    "This project aims to build an ELT pipeline that extracts raw data from S3, stages the data in Redshift, and then transforms the data into a set of fact and dimension tables accessible to climate data scientists. The two main tools used will be AWS S3 for data storage purposes and AWS Redshift as a warehouse. Data exploration and the development of data processing steps before running the ETL will be run on Python Pandas within a notebook. SQL in Python will be used to create and load tables.\n",
    "\n",
    "#### Data used\n",
    "Data used are:\n",
    "1. I94 Immigration Data (SAS): data from the United States National Tourism and Trade Office. It contains information on arrivals in the United States, such as date of arrival, passenger residence country, visa type, and mode of transport.\n",
    "\n",
    "2. I94 Immigration Data Labels (SAS): data from the United States National Tourism and Trade Office. It is a data dictionary for the I94 Immigration Data to help decode some abbreviations used within the Immigration Data.\n",
    "\n",
    "3. Monthly Arrivals Data (CSV): data from the United States National Tourism and Trade Office. It contains information on how many arrivals the United States receives per month from countries of the world, from the year 2000 until 2023.\n",
    "\n",
    "4. World Temperature Data (CSV): data from Kaggle. It contains information on average global land temperature for each city and country in the world starting from the year 1750 until 2013.\n",
    "\n",
    "5. World Emissions Data (CSV): data from Kaggle. It contains information on average CO2 emissions by country each year from the year 1960 until 2016."
   ]
  },
  {
   "cell_type": "markdown",
   "metadata": {},
   "source": [
    "### I94 Immigration Data"
   ]
  },
  {
   "cell_type": "code",
   "execution_count": 2,
   "metadata": {},
   "outputs": [],
   "source": [
    "# Reading a sample file in csv\n",
    "immigration_data = pd.read_csv('raw_data/immigration_data.csv')"
   ]
  },
  {
   "cell_type": "code",
   "execution_count": 3,
   "metadata": {
    "scrolled": true
   },
   "outputs": [
    {
     "data": {
      "text/html": [
       "<div>\n",
       "<style scoped>\n",
       "    .dataframe tbody tr th:only-of-type {\n",
       "        vertical-align: middle;\n",
       "    }\n",
       "\n",
       "    .dataframe tbody tr th {\n",
       "        vertical-align: top;\n",
       "    }\n",
       "\n",
       "    .dataframe thead th {\n",
       "        text-align: right;\n",
       "    }\n",
       "</style>\n",
       "<table border=\"1\" class=\"dataframe\">\n",
       "  <thead>\n",
       "    <tr style=\"text-align: right;\">\n",
       "      <th></th>\n",
       "      <th>Unnamed: 0</th>\n",
       "      <th>cicid</th>\n",
       "      <th>i94yr</th>\n",
       "      <th>i94mon</th>\n",
       "      <th>i94cit</th>\n",
       "      <th>i94res</th>\n",
       "      <th>i94port</th>\n",
       "      <th>arrdate</th>\n",
       "      <th>i94mode</th>\n",
       "      <th>i94addr</th>\n",
       "      <th>...</th>\n",
       "      <th>entdepu</th>\n",
       "      <th>matflag</th>\n",
       "      <th>biryear</th>\n",
       "      <th>dtaddto</th>\n",
       "      <th>gender</th>\n",
       "      <th>insnum</th>\n",
       "      <th>airline</th>\n",
       "      <th>admnum</th>\n",
       "      <th>fltno</th>\n",
       "      <th>visatype</th>\n",
       "    </tr>\n",
       "  </thead>\n",
       "  <tbody>\n",
       "    <tr>\n",
       "      <th>0</th>\n",
       "      <td>2027561</td>\n",
       "      <td>4084316.0</td>\n",
       "      <td>2016.0</td>\n",
       "      <td>4.0</td>\n",
       "      <td>209.0</td>\n",
       "      <td>209.0</td>\n",
       "      <td>HHW</td>\n",
       "      <td>20566.0</td>\n",
       "      <td>1.0</td>\n",
       "      <td>HI</td>\n",
       "      <td>...</td>\n",
       "      <td>NaN</td>\n",
       "      <td>M</td>\n",
       "      <td>1955.0</td>\n",
       "      <td>07202016</td>\n",
       "      <td>F</td>\n",
       "      <td>NaN</td>\n",
       "      <td>JL</td>\n",
       "      <td>5.658267e+10</td>\n",
       "      <td>00782</td>\n",
       "      <td>WT</td>\n",
       "    </tr>\n",
       "    <tr>\n",
       "      <th>1</th>\n",
       "      <td>2171295</td>\n",
       "      <td>4422636.0</td>\n",
       "      <td>2016.0</td>\n",
       "      <td>4.0</td>\n",
       "      <td>582.0</td>\n",
       "      <td>582.0</td>\n",
       "      <td>MCA</td>\n",
       "      <td>20567.0</td>\n",
       "      <td>1.0</td>\n",
       "      <td>TX</td>\n",
       "      <td>...</td>\n",
       "      <td>NaN</td>\n",
       "      <td>M</td>\n",
       "      <td>1990.0</td>\n",
       "      <td>10222016</td>\n",
       "      <td>M</td>\n",
       "      <td>NaN</td>\n",
       "      <td>*GA</td>\n",
       "      <td>9.436200e+10</td>\n",
       "      <td>XBLNG</td>\n",
       "      <td>B2</td>\n",
       "    </tr>\n",
       "    <tr>\n",
       "      <th>2</th>\n",
       "      <td>589494</td>\n",
       "      <td>1195600.0</td>\n",
       "      <td>2016.0</td>\n",
       "      <td>4.0</td>\n",
       "      <td>148.0</td>\n",
       "      <td>112.0</td>\n",
       "      <td>OGG</td>\n",
       "      <td>20551.0</td>\n",
       "      <td>1.0</td>\n",
       "      <td>FL</td>\n",
       "      <td>...</td>\n",
       "      <td>NaN</td>\n",
       "      <td>M</td>\n",
       "      <td>1940.0</td>\n",
       "      <td>07052016</td>\n",
       "      <td>M</td>\n",
       "      <td>NaN</td>\n",
       "      <td>LH</td>\n",
       "      <td>5.578047e+10</td>\n",
       "      <td>00464</td>\n",
       "      <td>WT</td>\n",
       "    </tr>\n",
       "    <tr>\n",
       "      <th>3</th>\n",
       "      <td>2631158</td>\n",
       "      <td>5291768.0</td>\n",
       "      <td>2016.0</td>\n",
       "      <td>4.0</td>\n",
       "      <td>297.0</td>\n",
       "      <td>297.0</td>\n",
       "      <td>LOS</td>\n",
       "      <td>20572.0</td>\n",
       "      <td>1.0</td>\n",
       "      <td>CA</td>\n",
       "      <td>...</td>\n",
       "      <td>NaN</td>\n",
       "      <td>M</td>\n",
       "      <td>1991.0</td>\n",
       "      <td>10272016</td>\n",
       "      <td>M</td>\n",
       "      <td>NaN</td>\n",
       "      <td>QR</td>\n",
       "      <td>9.478970e+10</td>\n",
       "      <td>00739</td>\n",
       "      <td>B2</td>\n",
       "    </tr>\n",
       "    <tr>\n",
       "      <th>4</th>\n",
       "      <td>3032257</td>\n",
       "      <td>985523.0</td>\n",
       "      <td>2016.0</td>\n",
       "      <td>4.0</td>\n",
       "      <td>111.0</td>\n",
       "      <td>111.0</td>\n",
       "      <td>CHM</td>\n",
       "      <td>20550.0</td>\n",
       "      <td>3.0</td>\n",
       "      <td>NY</td>\n",
       "      <td>...</td>\n",
       "      <td>NaN</td>\n",
       "      <td>M</td>\n",
       "      <td>1997.0</td>\n",
       "      <td>07042016</td>\n",
       "      <td>F</td>\n",
       "      <td>NaN</td>\n",
       "      <td>NaN</td>\n",
       "      <td>4.232257e+10</td>\n",
       "      <td>LAND</td>\n",
       "      <td>WT</td>\n",
       "    </tr>\n",
       "  </tbody>\n",
       "</table>\n",
       "<p>5 rows × 29 columns</p>\n",
       "</div>"
      ],
      "text/plain": [
       "   Unnamed: 0      cicid   i94yr  i94mon  i94cit  i94res i94port  arrdate  \\\n",
       "0     2027561  4084316.0  2016.0     4.0   209.0   209.0     HHW  20566.0   \n",
       "1     2171295  4422636.0  2016.0     4.0   582.0   582.0     MCA  20567.0   \n",
       "2      589494  1195600.0  2016.0     4.0   148.0   112.0     OGG  20551.0   \n",
       "3     2631158  5291768.0  2016.0     4.0   297.0   297.0     LOS  20572.0   \n",
       "4     3032257   985523.0  2016.0     4.0   111.0   111.0     CHM  20550.0   \n",
       "\n",
       "   i94mode i94addr    ...     entdepu  matflag  biryear   dtaddto  gender  \\\n",
       "0      1.0      HI    ...         NaN        M   1955.0  07202016       F   \n",
       "1      1.0      TX    ...         NaN        M   1990.0  10222016       M   \n",
       "2      1.0      FL    ...         NaN        M   1940.0  07052016       M   \n",
       "3      1.0      CA    ...         NaN        M   1991.0  10272016       M   \n",
       "4      3.0      NY    ...         NaN        M   1997.0  07042016       F   \n",
       "\n",
       "  insnum airline        admnum  fltno  visatype  \n",
       "0    NaN      JL  5.658267e+10  00782        WT  \n",
       "1    NaN     *GA  9.436200e+10  XBLNG        B2  \n",
       "2    NaN      LH  5.578047e+10  00464        WT  \n",
       "3    NaN      QR  9.478970e+10  00739        B2  \n",
       "4    NaN     NaN  4.232257e+10   LAND        WT  \n",
       "\n",
       "[5 rows x 29 columns]"
      ]
     },
     "execution_count": 3,
     "metadata": {},
     "output_type": "execute_result"
    }
   ],
   "source": [
    "immigration_data.head()"
   ]
  },
  {
   "cell_type": "code",
   "execution_count": 4,
   "metadata": {
    "scrolled": true
   },
   "outputs": [
    {
     "data": {
      "text/plain": [
       "Unnamed: 0      int64\n",
       "cicid         float64\n",
       "i94yr         float64\n",
       "i94mon        float64\n",
       "i94cit        float64\n",
       "i94res        float64\n",
       "i94port        object\n",
       "arrdate       float64\n",
       "i94mode       float64\n",
       "i94addr        object\n",
       "depdate       float64\n",
       "i94bir        float64\n",
       "i94visa       float64\n",
       "count         float64\n",
       "dtadfile        int64\n",
       "visapost       object\n",
       "occup          object\n",
       "entdepa        object\n",
       "entdepd        object\n",
       "entdepu       float64\n",
       "matflag        object\n",
       "biryear       float64\n",
       "dtaddto        object\n",
       "gender         object\n",
       "insnum        float64\n",
       "airline        object\n",
       "admnum        float64\n",
       "fltno          object\n",
       "visatype       object\n",
       "dtype: object"
      ]
     },
     "execution_count": 4,
     "metadata": {},
     "output_type": "execute_result"
    }
   ],
   "source": [
    "immigration_data.dtypes"
   ]
  },
  {
   "cell_type": "markdown",
   "metadata": {},
   "source": [
    "### Arrivals Data"
   ]
  },
  {
   "cell_type": "code",
   "execution_count": 5,
   "metadata": {},
   "outputs": [],
   "source": [
    "arrivals_data = pd.read_csv('raw_data/arrivals_data.csv')"
   ]
  },
  {
   "cell_type": "code",
   "execution_count": 6,
   "metadata": {
    "scrolled": true
   },
   "outputs": [
    {
     "data": {
      "text/html": [
       "<div>\n",
       "<style scoped>\n",
       "    .dataframe tbody tr th:only-of-type {\n",
       "        vertical-align: middle;\n",
       "    }\n",
       "\n",
       "    .dataframe tbody tr th {\n",
       "        vertical-align: top;\n",
       "    }\n",
       "\n",
       "    .dataframe thead th {\n",
       "        text-align: right;\n",
       "    }\n",
       "</style>\n",
       "<table border=\"1\" class=\"dataframe\">\n",
       "  <thead>\n",
       "    <tr style=\"text-align: right;\">\n",
       "      <th></th>\n",
       "      <th>1</th>\n",
       "      <th>International Visitors--\n",
       "   1) Country of Residence\n",
       "   2) 1+ nights in the USA\n",
       "   3)  Among qualified visa types</th>\n",
       "      <th>World \n",
       "Region</th>\n",
       "      <th>2000-01</th>\n",
       "      <th>2000-02</th>\n",
       "      <th>2000-03</th>\n",
       "      <th>2000-04</th>\n",
       "      <th>2000-05</th>\n",
       "      <th>2000-06</th>\n",
       "      <th>2000-07</th>\n",
       "      <th>...</th>\n",
       "      <th>Unnamed: 314</th>\n",
       "      <th>Unnamed: 315</th>\n",
       "      <th>Unnamed: 316</th>\n",
       "      <th>Unnamed: 317</th>\n",
       "      <th>Unnamed: 318</th>\n",
       "      <th>Unnamed: 319</th>\n",
       "      <th>Unnamed: 320</th>\n",
       "      <th>Unnamed: 321</th>\n",
       "      <th>Unnamed: 322</th>\n",
       "      <th>Unnamed: 323</th>\n",
       "    </tr>\n",
       "  </thead>\n",
       "  <tbody>\n",
       "    <tr>\n",
       "      <th>0</th>\n",
       "      <td>2.0</td>\n",
       "      <td>NaN</td>\n",
       "      <td>NaN</td>\n",
       "      <td>NaN</td>\n",
       "      <td>NaN</td>\n",
       "      <td>NaN</td>\n",
       "      <td>NaN</td>\n",
       "      <td>NaN</td>\n",
       "      <td>NaN</td>\n",
       "      <td>NaN</td>\n",
       "      <td>...</td>\n",
       "      <td>NaN</td>\n",
       "      <td>NaN</td>\n",
       "      <td>NaN</td>\n",
       "      <td>NaN</td>\n",
       "      <td>NaN</td>\n",
       "      <td>NaN</td>\n",
       "      <td>NaN</td>\n",
       "      <td>NaN</td>\n",
       "      <td>NaN</td>\n",
       "      <td>NaN</td>\n",
       "    </tr>\n",
       "    <tr>\n",
       "      <th>1</th>\n",
       "      <td>3.0</td>\n",
       "      <td>TOTAL ALL COUNTRIES</td>\n",
       "      <td>NaN</td>\n",
       "      <td>2,866,229</td>\n",
       "      <td>2,948,121</td>\n",
       "      <td>3,709,993</td>\n",
       "      <td>4,108,278</td>\n",
       "      <td>3,712,454</td>\n",
       "      <td>3,599,435</td>\n",
       "      <td>4,947,731</td>\n",
       "      <td>...</td>\n",
       "      <td>NaN</td>\n",
       "      <td>NaN</td>\n",
       "      <td>NaN</td>\n",
       "      <td>NaN</td>\n",
       "      <td>NaN</td>\n",
       "      <td>NaN</td>\n",
       "      <td>NaN</td>\n",
       "      <td>NaN</td>\n",
       "      <td>NaN</td>\n",
       "      <td>NaN</td>\n",
       "    </tr>\n",
       "    <tr>\n",
       "      <th>2</th>\n",
       "      <td>4.0</td>\n",
       "      <td>NaN</td>\n",
       "      <td>NaN</td>\n",
       "      <td>NaN</td>\n",
       "      <td>NaN</td>\n",
       "      <td>NaN</td>\n",
       "      <td>NaN</td>\n",
       "      <td>NaN</td>\n",
       "      <td>NaN</td>\n",
       "      <td>NaN</td>\n",
       "      <td>...</td>\n",
       "      <td>NaN</td>\n",
       "      <td>NaN</td>\n",
       "      <td>NaN</td>\n",
       "      <td>NaN</td>\n",
       "      <td>NaN</td>\n",
       "      <td>NaN</td>\n",
       "      <td>NaN</td>\n",
       "      <td>NaN</td>\n",
       "      <td>NaN</td>\n",
       "      <td>NaN</td>\n",
       "    </tr>\n",
       "    <tr>\n",
       "      <th>3</th>\n",
       "      <td>5.0</td>\n",
       "      <td>OVERSEAS</td>\n",
       "      <td>NaN</td>\n",
       "      <td>1,694,560</td>\n",
       "      <td>1,793,649</td>\n",
       "      <td>2,056,928</td>\n",
       "      <td>2,281,387</td>\n",
       "      <td>2,178,919</td>\n",
       "      <td>2,226,706</td>\n",
       "      <td>2,642,601</td>\n",
       "      <td>...</td>\n",
       "      <td>NaN</td>\n",
       "      <td>NaN</td>\n",
       "      <td>NaN</td>\n",
       "      <td>NaN</td>\n",
       "      <td>NaN</td>\n",
       "      <td>NaN</td>\n",
       "      <td>NaN</td>\n",
       "      <td>NaN</td>\n",
       "      <td>NaN</td>\n",
       "      <td>NaN</td>\n",
       "    </tr>\n",
       "    <tr>\n",
       "      <th>4</th>\n",
       "      <td>6.0</td>\n",
       "      <td>NaN</td>\n",
       "      <td>NaN</td>\n",
       "      <td>NaN</td>\n",
       "      <td>NaN</td>\n",
       "      <td>NaN</td>\n",
       "      <td>NaN</td>\n",
       "      <td>NaN</td>\n",
       "      <td>NaN</td>\n",
       "      <td>NaN</td>\n",
       "      <td>...</td>\n",
       "      <td>NaN</td>\n",
       "      <td>NaN</td>\n",
       "      <td>NaN</td>\n",
       "      <td>NaN</td>\n",
       "      <td>NaN</td>\n",
       "      <td>NaN</td>\n",
       "      <td>NaN</td>\n",
       "      <td>NaN</td>\n",
       "      <td>NaN</td>\n",
       "      <td>NaN</td>\n",
       "    </tr>\n",
       "  </tbody>\n",
       "</table>\n",
       "<p>5 rows × 324 columns</p>\n",
       "</div>"
      ],
      "text/plain": [
       "     1  \\\n",
       "0  2.0   \n",
       "1  3.0   \n",
       "2  4.0   \n",
       "3  5.0   \n",
       "4  6.0   \n",
       "\n",
       "  International Visitors--\\n   1) Country of Residence\\n   2) 1+ nights in the USA\\n   3)  Among qualified visa types  \\\n",
       "0                                                NaN                                                                    \n",
       "1                                TOTAL ALL COUNTRIES                                                                    \n",
       "2                                                NaN                                                                    \n",
       "3                                           OVERSEAS                                                                    \n",
       "4                                                NaN                                                                    \n",
       "\n",
       "  World \\nRegion    2000-01    2000-02    2000-03    2000-04    2000-05  \\\n",
       "0            NaN        NaN        NaN        NaN        NaN        NaN   \n",
       "1            NaN  2,866,229  2,948,121  3,709,993  4,108,278  3,712,454   \n",
       "2            NaN        NaN        NaN        NaN        NaN        NaN   \n",
       "3            NaN  1,694,560  1,793,649  2,056,928  2,281,387  2,178,919   \n",
       "4            NaN        NaN        NaN        NaN        NaN        NaN   \n",
       "\n",
       "     2000-06    2000-07     ...      Unnamed: 314 Unnamed: 315 Unnamed: 316  \\\n",
       "0        NaN        NaN     ...               NaN          NaN          NaN   \n",
       "1  3,599,435  4,947,731     ...               NaN          NaN          NaN   \n",
       "2        NaN        NaN     ...               NaN          NaN          NaN   \n",
       "3  2,226,706  2,642,601     ...               NaN          NaN          NaN   \n",
       "4        NaN        NaN     ...               NaN          NaN          NaN   \n",
       "\n",
       "  Unnamed: 317 Unnamed: 318 Unnamed: 319 Unnamed: 320 Unnamed: 321  \\\n",
       "0          NaN          NaN          NaN          NaN          NaN   \n",
       "1          NaN          NaN          NaN          NaN          NaN   \n",
       "2          NaN          NaN          NaN          NaN          NaN   \n",
       "3          NaN          NaN          NaN          NaN          NaN   \n",
       "4          NaN          NaN          NaN          NaN          NaN   \n",
       "\n",
       "  Unnamed: 322 Unnamed: 323  \n",
       "0          NaN          NaN  \n",
       "1          NaN          NaN  \n",
       "2          NaN          NaN  \n",
       "3          NaN          NaN  \n",
       "4          NaN          NaN  \n",
       "\n",
       "[5 rows x 324 columns]"
      ]
     },
     "execution_count": 6,
     "metadata": {},
     "output_type": "execute_result"
    }
   ],
   "source": [
    "arrivals_data.head()"
   ]
  },
  {
   "cell_type": "code",
   "execution_count": 7,
   "metadata": {
    "scrolled": true
   },
   "outputs": [
    {
     "data": {
      "text/plain": [
       "1                                                                                                                      float64\n",
       "International Visitors--\\n   1) Country of Residence\\n   2) 1+ nights in the USA\\n   3)  Among qualified visa types     object\n",
       "World \\nRegion                                                                                                          object\n",
       "2000-01                                                                                                                 object\n",
       "2000-02                                                                                                                 object\n",
       "2000-03                                                                                                                 object\n",
       "2000-04                                                                                                                 object\n",
       "2000-05                                                                                                                 object\n",
       "2000-06                                                                                                                 object\n",
       "2000-07                                                                                                                 object\n",
       "2000-08                                                                                                                 object\n",
       "2000-09                                                                                                                 object\n",
       "2000-10                                                                                                                 object\n",
       "2000-11                                                                                                                 object\n",
       "2000-12                                                                                                                 object\n",
       "2001-01                                                                                                                 object\n",
       "2001-02                                                                                                                 object\n",
       "2001-03                                                                                                                 object\n",
       "2001-04                                                                                                                 object\n",
       "2001-05                                                                                                                 object\n",
       "2001-06                                                                                                                 object\n",
       "2001-07                                                                                                                 object\n",
       "2001-08                                                                                                                 object\n",
       "2001-09                                                                                                                 object\n",
       "2001-10                                                                                                                 object\n",
       "2001-11                                                                                                                 object\n",
       "2001-12                                                                                                                 object\n",
       "2002-01                                                                                                                 object\n",
       "2002-02                                                                                                                 object\n",
       "2002-03                                                                                                                 object\n",
       "                                                                                                                        ...   \n",
       "Notes:                                                                                                                  object\n",
       "                                                                                                                        object\n",
       "Unnamed: 296                                                                                                           float64\n",
       "Unnamed: 297                                                                                                           float64\n",
       "Unnamed: 298                                                                                                           float64\n",
       "Unnamed: 299                                                                                                           float64\n",
       "Unnamed: 300                                                                                                           float64\n",
       "Unnamed: 301                                                                                                           float64\n",
       "Unnamed: 302                                                                                                           float64\n",
       "Unnamed: 303                                                                                                           float64\n",
       "Unnamed: 304                                                                                                           float64\n",
       "Unnamed: 305                                                                                                           float64\n",
       "Unnamed: 306                                                                                                           float64\n",
       "Unnamed: 307                                                                                                           float64\n",
       "Unnamed: 308                                                                                                           float64\n",
       "Unnamed: 309                                                                                                           float64\n",
       "Unnamed: 310                                                                                                           float64\n",
       "Unnamed: 311                                                                                                           float64\n",
       "Unnamed: 312                                                                                                           float64\n",
       "Unnamed: 313                                                                                                           float64\n",
       "Unnamed: 314                                                                                                           float64\n",
       "Unnamed: 315                                                                                                           float64\n",
       "Unnamed: 316                                                                                                           float64\n",
       "Unnamed: 317                                                                                                           float64\n",
       "Unnamed: 318                                                                                                           float64\n",
       "Unnamed: 319                                                                                                           float64\n",
       "Unnamed: 320                                                                                                           float64\n",
       "Unnamed: 321                                                                                                           float64\n",
       "Unnamed: 322                                                                                                           float64\n",
       "Unnamed: 323                                                                                                           float64\n",
       "Length: 324, dtype: object"
      ]
     },
     "execution_count": 7,
     "metadata": {},
     "output_type": "execute_result"
    }
   ],
   "source": [
    "arrivals_data.dtypes"
   ]
  },
  {
   "cell_type": "markdown",
   "metadata": {},
   "source": [
    "### World Temperature Data"
   ]
  },
  {
   "cell_type": "code",
   "execution_count": 8,
   "metadata": {},
   "outputs": [],
   "source": [
    "temperature_data = pd.read_csv('raw_data/temperature_data.csv')"
   ]
  },
  {
   "cell_type": "code",
   "execution_count": 9,
   "metadata": {
    "scrolled": true
   },
   "outputs": [
    {
     "data": {
      "text/html": [
       "<div>\n",
       "<style scoped>\n",
       "    .dataframe tbody tr th:only-of-type {\n",
       "        vertical-align: middle;\n",
       "    }\n",
       "\n",
       "    .dataframe tbody tr th {\n",
       "        vertical-align: top;\n",
       "    }\n",
       "\n",
       "    .dataframe thead th {\n",
       "        text-align: right;\n",
       "    }\n",
       "</style>\n",
       "<table border=\"1\" class=\"dataframe\">\n",
       "  <thead>\n",
       "    <tr style=\"text-align: right;\">\n",
       "      <th></th>\n",
       "      <th>dt</th>\n",
       "      <th>AverageTemperature</th>\n",
       "      <th>AverageTemperatureUncertainty</th>\n",
       "      <th>City</th>\n",
       "      <th>Country</th>\n",
       "      <th>Latitude</th>\n",
       "      <th>Longitude</th>\n",
       "    </tr>\n",
       "  </thead>\n",
       "  <tbody>\n",
       "    <tr>\n",
       "      <th>0</th>\n",
       "      <td>1743-11-01</td>\n",
       "      <td>6.068</td>\n",
       "      <td>1.737</td>\n",
       "      <td>Århus</td>\n",
       "      <td>Denmark</td>\n",
       "      <td>57.05N</td>\n",
       "      <td>10.33E</td>\n",
       "    </tr>\n",
       "    <tr>\n",
       "      <th>1</th>\n",
       "      <td>1743-12-01</td>\n",
       "      <td>NaN</td>\n",
       "      <td>NaN</td>\n",
       "      <td>Århus</td>\n",
       "      <td>Denmark</td>\n",
       "      <td>57.05N</td>\n",
       "      <td>10.33E</td>\n",
       "    </tr>\n",
       "    <tr>\n",
       "      <th>2</th>\n",
       "      <td>1744-01-01</td>\n",
       "      <td>NaN</td>\n",
       "      <td>NaN</td>\n",
       "      <td>Århus</td>\n",
       "      <td>Denmark</td>\n",
       "      <td>57.05N</td>\n",
       "      <td>10.33E</td>\n",
       "    </tr>\n",
       "    <tr>\n",
       "      <th>3</th>\n",
       "      <td>1744-02-01</td>\n",
       "      <td>NaN</td>\n",
       "      <td>NaN</td>\n",
       "      <td>Århus</td>\n",
       "      <td>Denmark</td>\n",
       "      <td>57.05N</td>\n",
       "      <td>10.33E</td>\n",
       "    </tr>\n",
       "    <tr>\n",
       "      <th>4</th>\n",
       "      <td>1744-03-01</td>\n",
       "      <td>NaN</td>\n",
       "      <td>NaN</td>\n",
       "      <td>Århus</td>\n",
       "      <td>Denmark</td>\n",
       "      <td>57.05N</td>\n",
       "      <td>10.33E</td>\n",
       "    </tr>\n",
       "  </tbody>\n",
       "</table>\n",
       "</div>"
      ],
      "text/plain": [
       "           dt  AverageTemperature  AverageTemperatureUncertainty   City  \\\n",
       "0  1743-11-01               6.068                          1.737  Århus   \n",
       "1  1743-12-01                 NaN                            NaN  Århus   \n",
       "2  1744-01-01                 NaN                            NaN  Århus   \n",
       "3  1744-02-01                 NaN                            NaN  Århus   \n",
       "4  1744-03-01                 NaN                            NaN  Århus   \n",
       "\n",
       "   Country Latitude Longitude  \n",
       "0  Denmark   57.05N    10.33E  \n",
       "1  Denmark   57.05N    10.33E  \n",
       "2  Denmark   57.05N    10.33E  \n",
       "3  Denmark   57.05N    10.33E  \n",
       "4  Denmark   57.05N    10.33E  "
      ]
     },
     "execution_count": 9,
     "metadata": {},
     "output_type": "execute_result"
    }
   ],
   "source": [
    "temperature_data.head()"
   ]
  },
  {
   "cell_type": "code",
   "execution_count": 10,
   "metadata": {},
   "outputs": [
    {
     "data": {
      "text/plain": [
       "dt                                object\n",
       "AverageTemperature               float64\n",
       "AverageTemperatureUncertainty    float64\n",
       "City                              object\n",
       "Country                           object\n",
       "Latitude                          object\n",
       "Longitude                         object\n",
       "dtype: object"
      ]
     },
     "execution_count": 10,
     "metadata": {},
     "output_type": "execute_result"
    }
   ],
   "source": [
    "temperature_data.dtypes"
   ]
  },
  {
   "cell_type": "markdown",
   "metadata": {},
   "source": [
    "### World Emissions Data"
   ]
  },
  {
   "cell_type": "code",
   "execution_count": 11,
   "metadata": {},
   "outputs": [],
   "source": [
    "emissions_data = pd.read_csv('raw_data/co2_emissions_kt_by_country.csv')"
   ]
  },
  {
   "cell_type": "code",
   "execution_count": 12,
   "metadata": {},
   "outputs": [
    {
     "data": {
      "text/html": [
       "<div>\n",
       "<style scoped>\n",
       "    .dataframe tbody tr th:only-of-type {\n",
       "        vertical-align: middle;\n",
       "    }\n",
       "\n",
       "    .dataframe tbody tr th {\n",
       "        vertical-align: top;\n",
       "    }\n",
       "\n",
       "    .dataframe thead th {\n",
       "        text-align: right;\n",
       "    }\n",
       "</style>\n",
       "<table border=\"1\" class=\"dataframe\">\n",
       "  <thead>\n",
       "    <tr style=\"text-align: right;\">\n",
       "      <th></th>\n",
       "      <th>country_code</th>\n",
       "      <th>country_name</th>\n",
       "      <th>year</th>\n",
       "      <th>value</th>\n",
       "    </tr>\n",
       "  </thead>\n",
       "  <tbody>\n",
       "    <tr>\n",
       "      <th>0</th>\n",
       "      <td>ABW</td>\n",
       "      <td>Aruba</td>\n",
       "      <td>1960</td>\n",
       "      <td>11092.675</td>\n",
       "    </tr>\n",
       "    <tr>\n",
       "      <th>1</th>\n",
       "      <td>ABW</td>\n",
       "      <td>Aruba</td>\n",
       "      <td>1961</td>\n",
       "      <td>11576.719</td>\n",
       "    </tr>\n",
       "    <tr>\n",
       "      <th>2</th>\n",
       "      <td>ABW</td>\n",
       "      <td>Aruba</td>\n",
       "      <td>1962</td>\n",
       "      <td>12713.489</td>\n",
       "    </tr>\n",
       "    <tr>\n",
       "      <th>3</th>\n",
       "      <td>ABW</td>\n",
       "      <td>Aruba</td>\n",
       "      <td>1963</td>\n",
       "      <td>12178.107</td>\n",
       "    </tr>\n",
       "    <tr>\n",
       "      <th>4</th>\n",
       "      <td>ABW</td>\n",
       "      <td>Aruba</td>\n",
       "      <td>1964</td>\n",
       "      <td>11840.743</td>\n",
       "    </tr>\n",
       "  </tbody>\n",
       "</table>\n",
       "</div>"
      ],
      "text/plain": [
       "  country_code country_name  year      value\n",
       "0          ABW        Aruba  1960  11092.675\n",
       "1          ABW        Aruba  1961  11576.719\n",
       "2          ABW        Aruba  1962  12713.489\n",
       "3          ABW        Aruba  1963  12178.107\n",
       "4          ABW        Aruba  1964  11840.743"
      ]
     },
     "execution_count": 12,
     "metadata": {},
     "output_type": "execute_result"
    }
   ],
   "source": [
    "emissions_data.head()"
   ]
  },
  {
   "cell_type": "code",
   "execution_count": 13,
   "metadata": {},
   "outputs": [
    {
     "data": {
      "text/plain": [
       "country_code     object\n",
       "country_name     object\n",
       "year              int64\n",
       "value           float64\n",
       "dtype: object"
      ]
     },
     "execution_count": 13,
     "metadata": {},
     "output_type": "execute_result"
    }
   ],
   "source": [
    "emissions_data.dtypes"
   ]
  },
  {
   "cell_type": "markdown",
   "metadata": {},
   "source": [
    "## 2. Explore, Assess, Clean Data\n",
    "#### Data issues\n",
    "    1. I94 Immigration Data\n",
    "        a. Not all column names are necessarily clear \n",
    "        b. Contains unnecessary columns that are empty or are not required in the final tables\n",
    "        c. Some columns do not have the right data types\n",
    "        d. Some columns (i.e., 'arrival_date' and 'departure_date' are in SAS date formats\n",
    "    \n",
    "    2. I94 Immigration Data Labels\n",
    "        a. Has mulitple data in one file as a data dictionary and must be split\n",
    "        \n",
    "    3. Arrivals Data\n",
    "        a. Contains unnecessary rows that are empty or are not required in the final tables\n",
    "        b. Contains unnecessary columns that are empty or are not required in the final tables\n",
    "        c. Not all column names are necessarily clear\n",
    "        d. Columns and rows are difficult to process and therefore must be pivoted to be more consistent\n",
    "        e. Some columns do not have the right data types\n",
    "        f. A date column (i.e., 'arrival_date') did not have the correct date format\n",
    "    \n",
    "    4. World Temperature Data\n",
    "        a. Contains temperature data for all cities in the world - only US data is needed\n",
    "        b. Not all column names are necessarily clear\n",
    "        \n",
    "    5. World Emissions Data\n",
    "        a. Contains emissions data for all countries in the world - only US data is needed\n",
    "        b. Not all column names are necessarily clear\n",
    "        \n",
    "\n",
    "#### Cleaning steps\n",
    "1. I94 Immigration Data: all columns will be renamed and those that are not required in the final tables will be dropped. SAS date formats are changed to pandas date format and other columns' data types will be addressed accordingly.\n",
    "    \n",
    "2. I94 Immigration Data Labels: this data dictionary will be split into 3 different files - code and country, code and port, and code and state. Code and country contains information on the country equivalent for each code that appears in I94 Immigration Data's 'i94cit' and 'i94res' columns. Code and port contains port equivalent for each code that appears in I94 Immigration Data's 'i94port' column. Code and state contains state equivalent for each code that appears in I94 Immigration Data's 'i94addr' column.\n",
    "    \n",
    "3. Arrivals Data: rows and columns that are not required in the final tables will be dropped. Arrivals data's table format is difficult to digest (i.e., columns were made up of 'countries', 'world_region', and all the dates from 2000 until 2023. This data will be pivoted so that the data's columns will only consist of 'countries', 'world_region', 'arrival_date' (with all the former date columns as rows), and 'arrival_total' (with all the total arrivals for each arrival date and for each country). All columns are also renamed to make data more consistent, and all data types will be addressed accordingly.\n",
    "    \n",
    "4. World Temperature Data: data will be sectioned to only contain temperature data on United States and its cities. All columns are also renamed to make data more consistent.\n",
    "    \n",
    "5. World Emissions Data: data will be sectioned to only contain emissions data on United States and its cities. All columns are also renamed to make data more consistent."
   ]
  },
  {
   "cell_type": "markdown",
   "metadata": {},
   "source": [
    "### I94 Immigration Data"
   ]
  },
  {
   "cell_type": "code",
   "execution_count": 14,
   "metadata": {},
   "outputs": [],
   "source": [
    "immi_data_copy = immigration_data.copy()"
   ]
  },
  {
   "cell_type": "code",
   "execution_count": 15,
   "metadata": {},
   "outputs": [],
   "source": [
    "# Renaming columns\n",
    "new_col_names = ['Unnamed: 0', 'cic_id', 'year', 'month', 'citizen_country_code', 'residence_country_code', \n",
    "                 'port_arrival_code', 'arrival_date', 'travel_mode', 'state_address_code', 'departure_date', \n",
    "                 'passenger_age', 'visa', 'count', 'dtadfile', 'visapost', 'occup', 'entdepa', 'entdepd', 'entdepu', \n",
    "                 'matflag', 'passenger_birth_year', 'dtaddto', 'gender', 'ins_num', 'airline_carrier', 'admission_num', \n",
    "                 'flight_num', 'visa_type']\n",
    "immi_data_copy.columns = new_col_names"
   ]
  },
  {
   "cell_type": "code",
   "execution_count": 16,
   "metadata": {},
   "outputs": [],
   "source": [
    "# Dropping columns\n",
    "cols_to_drop = ['Unnamed: 0', 'count', 'dtadfile', 'visapost', 'occup', 'entdepa', 'entdepd', 'entdepu', 'matflag', 'dtaddto']\n",
    "immi_data_copy = immi_data_copy.drop(columns=cols_to_drop)"
   ]
  },
  {
   "cell_type": "code",
   "execution_count": 17,
   "metadata": {},
   "outputs": [],
   "source": [
    "# Ensuring all data types are aligned\n",
    "immi_data_copy.replace([np.inf, -np.inf, 'inf', '-inf', 'NaN'], np.nan, inplace=True)\n",
    "immi_data_copy.fillna(0, inplace=True)\n",
    "\n",
    "cols_to_int = ['cic_id', 'year', 'month', 'citizen_country_code', 'residence_country_code', 'travel_mode', 'passenger_age', 'visa', 'passenger_birth_year', 'ins_num', 'admission_num']\n",
    "immi_data_copy[cols_to_int] = immi_data_copy[cols_to_int].astype(int)\n",
    "\n",
    "cols_to_str = ['port_arrival_code', 'state_address_code', 'gender', 'airline_carrier', 'flight_num', 'visa_type']\n",
    "immi_data_copy[cols_to_str] = immi_data_copy[cols_to_str].astype(str)"
   ]
  },
  {
   "cell_type": "code",
   "execution_count": 18,
   "metadata": {},
   "outputs": [],
   "source": [
    "# Dropping duplicates, if any\n",
    "immigration_clean = immi_data_copy.drop_duplicates()"
   ]
  },
  {
   "cell_type": "code",
   "execution_count": 19,
   "metadata": {},
   "outputs": [],
   "source": [
    "# Changing SAS data format    \n",
    "immigration_clean['arrival_date'] = pd.to_datetime('1960-01-01') + pd.to_timedelta(immigration_clean['arrival_date'], unit='D')\n",
    "immigration_clean['departure_date'] = pd.to_datetime('1960-01-01') + pd.to_timedelta(immigration_clean['departure_date'], unit='D')"
   ]
  },
  {
   "cell_type": "code",
   "execution_count": 20,
   "metadata": {},
   "outputs": [
    {
     "data": {
      "text/html": [
       "<div>\n",
       "<style scoped>\n",
       "    .dataframe tbody tr th:only-of-type {\n",
       "        vertical-align: middle;\n",
       "    }\n",
       "\n",
       "    .dataframe tbody tr th {\n",
       "        vertical-align: top;\n",
       "    }\n",
       "\n",
       "    .dataframe thead th {\n",
       "        text-align: right;\n",
       "    }\n",
       "</style>\n",
       "<table border=\"1\" class=\"dataframe\">\n",
       "  <thead>\n",
       "    <tr style=\"text-align: right;\">\n",
       "      <th></th>\n",
       "      <th>cic_id</th>\n",
       "      <th>year</th>\n",
       "      <th>month</th>\n",
       "      <th>citizen_country_code</th>\n",
       "      <th>residence_country_code</th>\n",
       "      <th>port_arrival_code</th>\n",
       "      <th>arrival_date</th>\n",
       "      <th>travel_mode</th>\n",
       "      <th>state_address_code</th>\n",
       "      <th>departure_date</th>\n",
       "      <th>passenger_age</th>\n",
       "      <th>visa</th>\n",
       "      <th>passenger_birth_year</th>\n",
       "      <th>gender</th>\n",
       "      <th>ins_num</th>\n",
       "      <th>airline_carrier</th>\n",
       "      <th>admission_num</th>\n",
       "      <th>flight_num</th>\n",
       "      <th>visa_type</th>\n",
       "    </tr>\n",
       "  </thead>\n",
       "  <tbody>\n",
       "    <tr>\n",
       "      <th>0</th>\n",
       "      <td>4084316</td>\n",
       "      <td>2016</td>\n",
       "      <td>4</td>\n",
       "      <td>209</td>\n",
       "      <td>209</td>\n",
       "      <td>HHW</td>\n",
       "      <td>2016-04-22</td>\n",
       "      <td>1</td>\n",
       "      <td>HI</td>\n",
       "      <td>2016-04-29</td>\n",
       "      <td>61</td>\n",
       "      <td>2</td>\n",
       "      <td>1955</td>\n",
       "      <td>F</td>\n",
       "      <td>0</td>\n",
       "      <td>JL</td>\n",
       "      <td>56582674633</td>\n",
       "      <td>00782</td>\n",
       "      <td>WT</td>\n",
       "    </tr>\n",
       "    <tr>\n",
       "      <th>1</th>\n",
       "      <td>4422636</td>\n",
       "      <td>2016</td>\n",
       "      <td>4</td>\n",
       "      <td>582</td>\n",
       "      <td>582</td>\n",
       "      <td>MCA</td>\n",
       "      <td>2016-04-23</td>\n",
       "      <td>1</td>\n",
       "      <td>TX</td>\n",
       "      <td>2016-04-24</td>\n",
       "      <td>26</td>\n",
       "      <td>2</td>\n",
       "      <td>1990</td>\n",
       "      <td>M</td>\n",
       "      <td>0</td>\n",
       "      <td>*GA</td>\n",
       "      <td>94361995930</td>\n",
       "      <td>XBLNG</td>\n",
       "      <td>B2</td>\n",
       "    </tr>\n",
       "    <tr>\n",
       "      <th>2</th>\n",
       "      <td>1195600</td>\n",
       "      <td>2016</td>\n",
       "      <td>4</td>\n",
       "      <td>148</td>\n",
       "      <td>112</td>\n",
       "      <td>OGG</td>\n",
       "      <td>2016-04-07</td>\n",
       "      <td>1</td>\n",
       "      <td>FL</td>\n",
       "      <td>2016-04-27</td>\n",
       "      <td>76</td>\n",
       "      <td>2</td>\n",
       "      <td>1940</td>\n",
       "      <td>M</td>\n",
       "      <td>0</td>\n",
       "      <td>LH</td>\n",
       "      <td>55780468433</td>\n",
       "      <td>00464</td>\n",
       "      <td>WT</td>\n",
       "    </tr>\n",
       "    <tr>\n",
       "      <th>3</th>\n",
       "      <td>5291768</td>\n",
       "      <td>2016</td>\n",
       "      <td>4</td>\n",
       "      <td>297</td>\n",
       "      <td>297</td>\n",
       "      <td>LOS</td>\n",
       "      <td>2016-04-28</td>\n",
       "      <td>1</td>\n",
       "      <td>CA</td>\n",
       "      <td>2016-05-07</td>\n",
       "      <td>25</td>\n",
       "      <td>2</td>\n",
       "      <td>1991</td>\n",
       "      <td>M</td>\n",
       "      <td>0</td>\n",
       "      <td>QR</td>\n",
       "      <td>94789696030</td>\n",
       "      <td>00739</td>\n",
       "      <td>B2</td>\n",
       "    </tr>\n",
       "    <tr>\n",
       "      <th>4</th>\n",
       "      <td>985523</td>\n",
       "      <td>2016</td>\n",
       "      <td>4</td>\n",
       "      <td>111</td>\n",
       "      <td>111</td>\n",
       "      <td>CHM</td>\n",
       "      <td>2016-04-06</td>\n",
       "      <td>3</td>\n",
       "      <td>NY</td>\n",
       "      <td>2016-04-09</td>\n",
       "      <td>19</td>\n",
       "      <td>2</td>\n",
       "      <td>1997</td>\n",
       "      <td>F</td>\n",
       "      <td>0</td>\n",
       "      <td>0</td>\n",
       "      <td>42322572633</td>\n",
       "      <td>LAND</td>\n",
       "      <td>WT</td>\n",
       "    </tr>\n",
       "  </tbody>\n",
       "</table>\n",
       "</div>"
      ],
      "text/plain": [
       "    cic_id  year  month  citizen_country_code  residence_country_code  \\\n",
       "0  4084316  2016      4                   209                     209   \n",
       "1  4422636  2016      4                   582                     582   \n",
       "2  1195600  2016      4                   148                     112   \n",
       "3  5291768  2016      4                   297                     297   \n",
       "4   985523  2016      4                   111                     111   \n",
       "\n",
       "  port_arrival_code arrival_date  travel_mode state_address_code  \\\n",
       "0               HHW   2016-04-22            1                 HI   \n",
       "1               MCA   2016-04-23            1                 TX   \n",
       "2               OGG   2016-04-07            1                 FL   \n",
       "3               LOS   2016-04-28            1                 CA   \n",
       "4               CHM   2016-04-06            3                 NY   \n",
       "\n",
       "  departure_date  passenger_age  visa  passenger_birth_year gender  ins_num  \\\n",
       "0     2016-04-29             61     2                  1955      F        0   \n",
       "1     2016-04-24             26     2                  1990      M        0   \n",
       "2     2016-04-27             76     2                  1940      M        0   \n",
       "3     2016-05-07             25     2                  1991      M        0   \n",
       "4     2016-04-09             19     2                  1997      F        0   \n",
       "\n",
       "  airline_carrier  admission_num flight_num visa_type  \n",
       "0              JL    56582674633      00782        WT  \n",
       "1             *GA    94361995930      XBLNG        B2  \n",
       "2              LH    55780468433      00464        WT  \n",
       "3              QR    94789696030      00739        B2  \n",
       "4               0    42322572633       LAND        WT  "
      ]
     },
     "execution_count": 20,
     "metadata": {},
     "output_type": "execute_result"
    }
   ],
   "source": [
    "# Final Checks\n",
    "immigration_clean.head()"
   ]
  },
  {
   "cell_type": "code",
   "execution_count": 21,
   "metadata": {},
   "outputs": [
    {
     "data": {
      "text/plain": [
       "Index(['cic_id', 'year', 'month', 'citizen_country_code',\n",
       "       'residence_country_code', 'port_arrival_code', 'arrival_date',\n",
       "       'travel_mode', 'state_address_code', 'departure_date', 'passenger_age',\n",
       "       'visa', 'passenger_birth_year', 'gender', 'ins_num', 'airline_carrier',\n",
       "       'admission_num', 'flight_num', 'visa_type'],\n",
       "      dtype='object')"
      ]
     },
     "execution_count": 21,
     "metadata": {},
     "output_type": "execute_result"
    }
   ],
   "source": [
    "immigration_clean.columns"
   ]
  },
  {
   "cell_type": "code",
   "execution_count": 22,
   "metadata": {},
   "outputs": [
    {
     "data": {
      "text/plain": [
       "cic_id                             int64\n",
       "year                               int64\n",
       "month                              int64\n",
       "citizen_country_code               int64\n",
       "residence_country_code             int64\n",
       "port_arrival_code                 object\n",
       "arrival_date              datetime64[ns]\n",
       "travel_mode                        int64\n",
       "state_address_code                object\n",
       "departure_date            datetime64[ns]\n",
       "passenger_age                      int64\n",
       "visa                               int64\n",
       "passenger_birth_year               int64\n",
       "gender                            object\n",
       "ins_num                            int64\n",
       "airline_carrier                   object\n",
       "admission_num                      int64\n",
       "flight_num                        object\n",
       "visa_type                         object\n",
       "dtype: object"
      ]
     },
     "execution_count": 22,
     "metadata": {},
     "output_type": "execute_result"
    }
   ],
   "source": [
    "immigration_clean.dtypes"
   ]
  },
  {
   "cell_type": "markdown",
   "metadata": {},
   "source": [
    "### I94 Data Labels"
   ]
  },
  {
   "cell_type": "code",
   "execution_count": 23,
   "metadata": {},
   "outputs": [],
   "source": [
    "labels_data_url = 'raw_data/I94_SAS_Labels_Descriptions.SAS'\n",
    "\n",
    "with open(labels_data_url, 'r') as file:\n",
    "    lines = file.readlines()"
   ]
  },
  {
   "cell_type": "code",
   "execution_count": 24,
   "metadata": {},
   "outputs": [],
   "source": [
    "# Defining which lines belong to which coded column\n",
    "country_code_lines = lines[9:298]\n",
    "port_code_lines = lines[302:962]\n",
    "state_code_lines = lines[981:1036]"
   ]
  },
  {
   "cell_type": "code",
   "execution_count": 25,
   "metadata": {},
   "outputs": [],
   "source": [
    "# Functions to process lines into different files\n",
    "def process_lines_abbreviation(line):\n",
    "    parts = line.strip().split('=')\n",
    "    code = parts[0].strip().replace(\"'\", \"\")\n",
    "    value = parts[1].strip().replace(\"'\", \"\")\n",
    "    return code, value\n",
    "\n",
    "def process_lines_value(line):\n",
    "    parts = line.strip().split('=')\n",
    "    return parts[0].strip(), parts[1].strip().replace(\"'\", \"\")"
   ]
  },
  {
   "cell_type": "code",
   "execution_count": 26,
   "metadata": {},
   "outputs": [],
   "source": [
    "# Splitting into 3 different files    \n",
    "df_countries = pd.DataFrame([process_lines_value(line) for line in country_code_lines], columns=['code', 'country'])\n",
    "df_port = pd.DataFrame([process_lines_abbreviation(line) for line in port_code_lines], columns=['code', 'port'])\n",
    "df_state = pd.DataFrame([process_lines_abbreviation(line) for line in state_code_lines], columns=['code', 'state'])"
   ]
  },
  {
   "cell_type": "code",
   "execution_count": 27,
   "metadata": {},
   "outputs": [
    {
     "data": {
      "text/html": [
       "<div>\n",
       "<style scoped>\n",
       "    .dataframe tbody tr th:only-of-type {\n",
       "        vertical-align: middle;\n",
       "    }\n",
       "\n",
       "    .dataframe tbody tr th {\n",
       "        vertical-align: top;\n",
       "    }\n",
       "\n",
       "    .dataframe thead th {\n",
       "        text-align: right;\n",
       "    }\n",
       "</style>\n",
       "<table border=\"1\" class=\"dataframe\">\n",
       "  <thead>\n",
       "    <tr style=\"text-align: right;\">\n",
       "      <th></th>\n",
       "      <th>code</th>\n",
       "      <th>country</th>\n",
       "    </tr>\n",
       "  </thead>\n",
       "  <tbody>\n",
       "    <tr>\n",
       "      <th>0</th>\n",
       "      <td>582</td>\n",
       "      <td>MEXICO Air Sea, and Not Reported (I-94, no lan...</td>\n",
       "    </tr>\n",
       "    <tr>\n",
       "      <th>1</th>\n",
       "      <td>236</td>\n",
       "      <td>AFGHANISTAN</td>\n",
       "    </tr>\n",
       "    <tr>\n",
       "      <th>2</th>\n",
       "      <td>101</td>\n",
       "      <td>ALBANIA</td>\n",
       "    </tr>\n",
       "    <tr>\n",
       "      <th>3</th>\n",
       "      <td>316</td>\n",
       "      <td>ALGERIA</td>\n",
       "    </tr>\n",
       "    <tr>\n",
       "      <th>4</th>\n",
       "      <td>102</td>\n",
       "      <td>ANDORRA</td>\n",
       "    </tr>\n",
       "  </tbody>\n",
       "</table>\n",
       "</div>"
      ],
      "text/plain": [
       "  code                                            country\n",
       "0  582  MEXICO Air Sea, and Not Reported (I-94, no lan...\n",
       "1  236                                        AFGHANISTAN\n",
       "2  101                                            ALBANIA\n",
       "3  316                                            ALGERIA\n",
       "4  102                                            ANDORRA"
      ]
     },
     "execution_count": 27,
     "metadata": {},
     "output_type": "execute_result"
    }
   ],
   "source": [
    "# Final checks\n",
    "df_countries.head()"
   ]
  },
  {
   "cell_type": "code",
   "execution_count": 28,
   "metadata": {},
   "outputs": [
    {
     "data": {
      "text/plain": [
       "Index(['code', 'country'], dtype='object')"
      ]
     },
     "execution_count": 28,
     "metadata": {},
     "output_type": "execute_result"
    }
   ],
   "source": [
    "df_countries.columns"
   ]
  },
  {
   "cell_type": "code",
   "execution_count": 29,
   "metadata": {},
   "outputs": [
    {
     "data": {
      "text/html": [
       "<div>\n",
       "<style scoped>\n",
       "    .dataframe tbody tr th:only-of-type {\n",
       "        vertical-align: middle;\n",
       "    }\n",
       "\n",
       "    .dataframe tbody tr th {\n",
       "        vertical-align: top;\n",
       "    }\n",
       "\n",
       "    .dataframe thead th {\n",
       "        text-align: right;\n",
       "    }\n",
       "</style>\n",
       "<table border=\"1\" class=\"dataframe\">\n",
       "  <thead>\n",
       "    <tr style=\"text-align: right;\">\n",
       "      <th></th>\n",
       "      <th>code</th>\n",
       "      <th>port</th>\n",
       "    </tr>\n",
       "  </thead>\n",
       "  <tbody>\n",
       "    <tr>\n",
       "      <th>0</th>\n",
       "      <td>ALC</td>\n",
       "      <td>ALCAN, AK</td>\n",
       "    </tr>\n",
       "    <tr>\n",
       "      <th>1</th>\n",
       "      <td>ANC</td>\n",
       "      <td>ANCHORAGE, AK</td>\n",
       "    </tr>\n",
       "    <tr>\n",
       "      <th>2</th>\n",
       "      <td>BAR</td>\n",
       "      <td>BAKER AAF - BAKER ISLAND, AK</td>\n",
       "    </tr>\n",
       "    <tr>\n",
       "      <th>3</th>\n",
       "      <td>DAC</td>\n",
       "      <td>DALTONS CACHE, AK</td>\n",
       "    </tr>\n",
       "    <tr>\n",
       "      <th>4</th>\n",
       "      <td>PIZ</td>\n",
       "      <td>DEW STATION PT LAY DEW, AK</td>\n",
       "    </tr>\n",
       "  </tbody>\n",
       "</table>\n",
       "</div>"
      ],
      "text/plain": [
       "  code                          port\n",
       "0  ALC        ALCAN, AK             \n",
       "1  ANC        ANCHORAGE, AK         \n",
       "2  BAR  BAKER AAF - BAKER ISLAND, AK\n",
       "3  DAC        DALTONS CACHE, AK     \n",
       "4  PIZ    DEW STATION PT LAY DEW, AK"
      ]
     },
     "execution_count": 29,
     "metadata": {},
     "output_type": "execute_result"
    }
   ],
   "source": [
    "df_port.head()"
   ]
  },
  {
   "cell_type": "code",
   "execution_count": 30,
   "metadata": {},
   "outputs": [
    {
     "data": {
      "text/plain": [
       "Index(['code', 'port'], dtype='object')"
      ]
     },
     "execution_count": 30,
     "metadata": {},
     "output_type": "execute_result"
    }
   ],
   "source": [
    "df_port.columns"
   ]
  },
  {
   "cell_type": "code",
   "execution_count": 31,
   "metadata": {},
   "outputs": [
    {
     "data": {
      "text/html": [
       "<div>\n",
       "<style scoped>\n",
       "    .dataframe tbody tr th:only-of-type {\n",
       "        vertical-align: middle;\n",
       "    }\n",
       "\n",
       "    .dataframe tbody tr th {\n",
       "        vertical-align: top;\n",
       "    }\n",
       "\n",
       "    .dataframe thead th {\n",
       "        text-align: right;\n",
       "    }\n",
       "</style>\n",
       "<table border=\"1\" class=\"dataframe\">\n",
       "  <thead>\n",
       "    <tr style=\"text-align: right;\">\n",
       "      <th></th>\n",
       "      <th>code</th>\n",
       "      <th>state</th>\n",
       "    </tr>\n",
       "  </thead>\n",
       "  <tbody>\n",
       "    <tr>\n",
       "      <th>0</th>\n",
       "      <td>AL</td>\n",
       "      <td>ALABAMA</td>\n",
       "    </tr>\n",
       "    <tr>\n",
       "      <th>1</th>\n",
       "      <td>AK</td>\n",
       "      <td>ALASKA</td>\n",
       "    </tr>\n",
       "    <tr>\n",
       "      <th>2</th>\n",
       "      <td>AZ</td>\n",
       "      <td>ARIZONA</td>\n",
       "    </tr>\n",
       "    <tr>\n",
       "      <th>3</th>\n",
       "      <td>AR</td>\n",
       "      <td>ARKANSAS</td>\n",
       "    </tr>\n",
       "    <tr>\n",
       "      <th>4</th>\n",
       "      <td>CA</td>\n",
       "      <td>CALIFORNIA</td>\n",
       "    </tr>\n",
       "  </tbody>\n",
       "</table>\n",
       "</div>"
      ],
      "text/plain": [
       "  code       state\n",
       "0   AL     ALABAMA\n",
       "1   AK      ALASKA\n",
       "2   AZ     ARIZONA\n",
       "3   AR    ARKANSAS\n",
       "4   CA  CALIFORNIA"
      ]
     },
     "execution_count": 31,
     "metadata": {},
     "output_type": "execute_result"
    }
   ],
   "source": [
    "df_state.head()"
   ]
  },
  {
   "cell_type": "code",
   "execution_count": 32,
   "metadata": {},
   "outputs": [
    {
     "data": {
      "text/plain": [
       "Index(['code', 'state'], dtype='object')"
      ]
     },
     "execution_count": 32,
     "metadata": {},
     "output_type": "execute_result"
    }
   ],
   "source": [
    "df_state.columns"
   ]
  },
  {
   "cell_type": "markdown",
   "metadata": {},
   "source": [
    "### Arrivals Data"
   ]
  },
  {
   "cell_type": "code",
   "execution_count": 33,
   "metadata": {},
   "outputs": [],
   "source": [
    "arrivals_data_copy = arrivals_data.copy()"
   ]
  },
  {
   "cell_type": "code",
   "execution_count": 34,
   "metadata": {},
   "outputs": [],
   "source": [
    "# Dropping rows\n",
    "arrivals_useful_rows = arrivals_data_copy.iloc[19:254]"
   ]
  },
  {
   "cell_type": "code",
   "execution_count": 35,
   "metadata": {},
   "outputs": [],
   "source": [
    "# Dropping columns\n",
    "arrivals_useful_cols = arrivals_useful_rows.drop(arrivals_useful_rows.columns[0], axis=1)\n",
    "\n",
    "drop_these_cols = arrivals_useful_cols.columns.get_loc('2023-10')\n",
    "arrivals_clean = arrivals_useful_cols.drop(arrivals_useful_cols.columns[drop_these_cols+1:], axis=1)"
   ]
  },
  {
   "cell_type": "code",
   "execution_count": 36,
   "metadata": {},
   "outputs": [],
   "source": [
    "# Renaming columns\n",
    "arrivals_final = arrivals_clean.rename(columns={'International Visitors--\\n   1) Country of Residence\\n   2) 1+ nights in the USA\\n   3)  Among qualified visa types': 'country', 'World \\nRegion': 'world_region'})"
   ]
  },
  {
   "cell_type": "code",
   "execution_count": 37,
   "metadata": {},
   "outputs": [],
   "source": [
    "# Pivoting\n",
    "arrivals_pivoted_df = arrivals_final.melt(id_vars=['country', 'world_region'], var_name='arrival_date', value_name='arrival_total')"
   ]
  },
  {
   "cell_type": "code",
   "execution_count": 38,
   "metadata": {},
   "outputs": [],
   "source": [
    "# Ensuring date formats are correct\n",
    "arrivals_pivoted_df['arrival_date'] = arrivals_pivoted_df.arrival_date + '-31'\n",
    "arrivals_pivoted_df['arrival_date'] = arrivals_pivoted_df['arrival_date'].apply(lambda x: '-'.join([part if len(part) > 1 else '0' + part for part in x.split('-')]))"
   ]
  },
  {
   "cell_type": "code",
   "execution_count": 39,
   "metadata": {},
   "outputs": [],
   "source": [
    "# Ensuring data types are aligned\n",
    "arrivals_pivoted_df['arrival_total'] = arrivals_pivoted_df['arrival_total'].str.replace(',', '')\n",
    "arrivals_pivoted_df['arrival_total'] = arrivals_pivoted_df['arrival_total'].replace(' -   ', 0)\n",
    "\n",
    "arrivals_pivoted_final = arrivals_pivoted_df.fillna(0)\n",
    "\n",
    "arrivals_pivoted_final['arrival_total'] = arrivals_pivoted_final['arrival_total'].astype(int)"
   ]
  },
  {
   "cell_type": "code",
   "execution_count": 40,
   "metadata": {},
   "outputs": [
    {
     "data": {
      "text/html": [
       "<div>\n",
       "<style scoped>\n",
       "    .dataframe tbody tr th:only-of-type {\n",
       "        vertical-align: middle;\n",
       "    }\n",
       "\n",
       "    .dataframe tbody tr th {\n",
       "        vertical-align: top;\n",
       "    }\n",
       "\n",
       "    .dataframe thead th {\n",
       "        text-align: right;\n",
       "    }\n",
       "</style>\n",
       "<table border=\"1\" class=\"dataframe\">\n",
       "  <thead>\n",
       "    <tr style=\"text-align: right;\">\n",
       "      <th></th>\n",
       "      <th>country</th>\n",
       "      <th>world_region</th>\n",
       "      <th>arrival_date</th>\n",
       "      <th>arrival_total</th>\n",
       "    </tr>\n",
       "  </thead>\n",
       "  <tbody>\n",
       "    <tr>\n",
       "      <th>0</th>\n",
       "      <td>Afghanistan</td>\n",
       "      <td>Asia</td>\n",
       "      <td>2000-01-31</td>\n",
       "      <td>3</td>\n",
       "    </tr>\n",
       "    <tr>\n",
       "      <th>1</th>\n",
       "      <td>Albania</td>\n",
       "      <td>Eastern Europe</td>\n",
       "      <td>2000-01-31</td>\n",
       "      <td>200</td>\n",
       "    </tr>\n",
       "    <tr>\n",
       "      <th>2</th>\n",
       "      <td>Algeria</td>\n",
       "      <td>Africa</td>\n",
       "      <td>2000-01-31</td>\n",
       "      <td>234</td>\n",
       "    </tr>\n",
       "    <tr>\n",
       "      <th>3</th>\n",
       "      <td>Andorra</td>\n",
       "      <td>Western Europe</td>\n",
       "      <td>2000-01-31</td>\n",
       "      <td>110</td>\n",
       "    </tr>\n",
       "    <tr>\n",
       "      <th>4</th>\n",
       "      <td>Angola</td>\n",
       "      <td>Africa</td>\n",
       "      <td>2000-01-31</td>\n",
       "      <td>333</td>\n",
       "    </tr>\n",
       "  </tbody>\n",
       "</table>\n",
       "</div>"
      ],
      "text/plain": [
       "       country    world_region arrival_date  arrival_total\n",
       "0  Afghanistan            Asia   2000-01-31              3\n",
       "1      Albania  Eastern Europe   2000-01-31            200\n",
       "2      Algeria          Africa   2000-01-31            234\n",
       "3      Andorra  Western Europe   2000-01-31            110\n",
       "4       Angola          Africa   2000-01-31            333"
      ]
     },
     "execution_count": 40,
     "metadata": {},
     "output_type": "execute_result"
    }
   ],
   "source": [
    "# Final Checks\n",
    "arrivals_pivoted_final.head()"
   ]
  },
  {
   "cell_type": "code",
   "execution_count": 41,
   "metadata": {},
   "outputs": [
    {
     "data": {
      "text/plain": [
       "Index(['country', 'world_region', 'arrival_date', 'arrival_total'], dtype='object')"
      ]
     },
     "execution_count": 41,
     "metadata": {},
     "output_type": "execute_result"
    }
   ],
   "source": [
    "arrivals_pivoted_final.columns"
   ]
  },
  {
   "cell_type": "code",
   "execution_count": 42,
   "metadata": {},
   "outputs": [
    {
     "data": {
      "text/plain": [
       "country          object\n",
       "world_region     object\n",
       "arrival_date     object\n",
       "arrival_total     int64\n",
       "dtype: object"
      ]
     },
     "execution_count": 42,
     "metadata": {},
     "output_type": "execute_result"
    }
   ],
   "source": [
    "arrivals_pivoted_final.dtypes"
   ]
  },
  {
   "cell_type": "markdown",
   "metadata": {},
   "source": [
    "### World Temperature Data"
   ]
  },
  {
   "cell_type": "code",
   "execution_count": 43,
   "metadata": {},
   "outputs": [],
   "source": [
    "temp_data_copy = temperature_data.copy()"
   ]
  },
  {
   "cell_type": "code",
   "execution_count": 44,
   "metadata": {},
   "outputs": [],
   "source": [
    "# Filtering to United States\n",
    "temperature_clean = temp_data_copy[temp_data_copy['Country'] == 'United States']"
   ]
  },
  {
   "cell_type": "code",
   "execution_count": 45,
   "metadata": {},
   "outputs": [],
   "source": [
    "# Renaming columns\n",
    "renamed_cols = ['date', 'avg_temp', 'avg_temp_uncertainty', 'city', 'country', 'latitude', 'longitude']\n",
    "temperature_clean.columns = renamed_cols"
   ]
  },
  {
   "cell_type": "code",
   "execution_count": 46,
   "metadata": {},
   "outputs": [
    {
     "data": {
      "text/html": [
       "<div>\n",
       "<style scoped>\n",
       "    .dataframe tbody tr th:only-of-type {\n",
       "        vertical-align: middle;\n",
       "    }\n",
       "\n",
       "    .dataframe tbody tr th {\n",
       "        vertical-align: top;\n",
       "    }\n",
       "\n",
       "    .dataframe thead th {\n",
       "        text-align: right;\n",
       "    }\n",
       "</style>\n",
       "<table border=\"1\" class=\"dataframe\">\n",
       "  <thead>\n",
       "    <tr style=\"text-align: right;\">\n",
       "      <th></th>\n",
       "      <th>date</th>\n",
       "      <th>avg_temp</th>\n",
       "      <th>avg_temp_uncertainty</th>\n",
       "      <th>city</th>\n",
       "      <th>country</th>\n",
       "      <th>latitude</th>\n",
       "      <th>longitude</th>\n",
       "    </tr>\n",
       "  </thead>\n",
       "  <tbody>\n",
       "    <tr>\n",
       "      <th>47555</th>\n",
       "      <td>1820-01-01</td>\n",
       "      <td>2.101</td>\n",
       "      <td>3.217</td>\n",
       "      <td>Abilene</td>\n",
       "      <td>United States</td>\n",
       "      <td>32.95N</td>\n",
       "      <td>100.53W</td>\n",
       "    </tr>\n",
       "    <tr>\n",
       "      <th>47556</th>\n",
       "      <td>1820-02-01</td>\n",
       "      <td>6.926</td>\n",
       "      <td>2.853</td>\n",
       "      <td>Abilene</td>\n",
       "      <td>United States</td>\n",
       "      <td>32.95N</td>\n",
       "      <td>100.53W</td>\n",
       "    </tr>\n",
       "    <tr>\n",
       "      <th>47557</th>\n",
       "      <td>1820-03-01</td>\n",
       "      <td>10.767</td>\n",
       "      <td>2.395</td>\n",
       "      <td>Abilene</td>\n",
       "      <td>United States</td>\n",
       "      <td>32.95N</td>\n",
       "      <td>100.53W</td>\n",
       "    </tr>\n",
       "    <tr>\n",
       "      <th>47558</th>\n",
       "      <td>1820-04-01</td>\n",
       "      <td>17.989</td>\n",
       "      <td>2.202</td>\n",
       "      <td>Abilene</td>\n",
       "      <td>United States</td>\n",
       "      <td>32.95N</td>\n",
       "      <td>100.53W</td>\n",
       "    </tr>\n",
       "    <tr>\n",
       "      <th>47559</th>\n",
       "      <td>1820-05-01</td>\n",
       "      <td>21.809</td>\n",
       "      <td>2.036</td>\n",
       "      <td>Abilene</td>\n",
       "      <td>United States</td>\n",
       "      <td>32.95N</td>\n",
       "      <td>100.53W</td>\n",
       "    </tr>\n",
       "  </tbody>\n",
       "</table>\n",
       "</div>"
      ],
      "text/plain": [
       "             date  avg_temp  avg_temp_uncertainty     city        country  \\\n",
       "47555  1820-01-01     2.101                 3.217  Abilene  United States   \n",
       "47556  1820-02-01     6.926                 2.853  Abilene  United States   \n",
       "47557  1820-03-01    10.767                 2.395  Abilene  United States   \n",
       "47558  1820-04-01    17.989                 2.202  Abilene  United States   \n",
       "47559  1820-05-01    21.809                 2.036  Abilene  United States   \n",
       "\n",
       "      latitude longitude  \n",
       "47555   32.95N   100.53W  \n",
       "47556   32.95N   100.53W  \n",
       "47557   32.95N   100.53W  \n",
       "47558   32.95N   100.53W  \n",
       "47559   32.95N   100.53W  "
      ]
     },
     "execution_count": 46,
     "metadata": {},
     "output_type": "execute_result"
    }
   ],
   "source": [
    "# Final checks\n",
    "temperature_clean.head()"
   ]
  },
  {
   "cell_type": "code",
   "execution_count": 47,
   "metadata": {},
   "outputs": [
    {
     "data": {
      "text/plain": [
       "Index(['date', 'avg_temp', 'avg_temp_uncertainty', 'city', 'country',\n",
       "       'latitude', 'longitude'],\n",
       "      dtype='object')"
      ]
     },
     "execution_count": 47,
     "metadata": {},
     "output_type": "execute_result"
    }
   ],
   "source": [
    "temperature_clean.columns"
   ]
  },
  {
   "cell_type": "code",
   "execution_count": 48,
   "metadata": {},
   "outputs": [
    {
     "data": {
      "text/plain": [
       "date                     object\n",
       "avg_temp                float64\n",
       "avg_temp_uncertainty    float64\n",
       "city                     object\n",
       "country                  object\n",
       "latitude                 object\n",
       "longitude                object\n",
       "dtype: object"
      ]
     },
     "execution_count": 48,
     "metadata": {},
     "output_type": "execute_result"
    }
   ],
   "source": [
    "temperature_clean.dtypes"
   ]
  },
  {
   "cell_type": "markdown",
   "metadata": {},
   "source": [
    "### World Emissions Data"
   ]
  },
  {
   "cell_type": "code",
   "execution_count": 49,
   "metadata": {},
   "outputs": [],
   "source": [
    "emi_data_copy = emissions_data.copy()"
   ]
  },
  {
   "cell_type": "code",
   "execution_count": 50,
   "metadata": {},
   "outputs": [],
   "source": [
    "# Filtering to United States\n",
    "emissions_clean = emi_data_copy[emi_data_copy['country_name'] == 'United States']"
   ]
  },
  {
   "cell_type": "code",
   "execution_count": 51,
   "metadata": {},
   "outputs": [],
   "source": [
    "# Renaming columns\n",
    "emissions_clean = emissions_clean.rename(columns={'value': 'emissions_kt'})"
   ]
  },
  {
   "cell_type": "code",
   "execution_count": 52,
   "metadata": {},
   "outputs": [
    {
     "data": {
      "text/html": [
       "<div>\n",
       "<style scoped>\n",
       "    .dataframe tbody tr th:only-of-type {\n",
       "        vertical-align: middle;\n",
       "    }\n",
       "\n",
       "    .dataframe tbody tr th {\n",
       "        vertical-align: top;\n",
       "    }\n",
       "\n",
       "    .dataframe thead th {\n",
       "        text-align: right;\n",
       "    }\n",
       "</style>\n",
       "<table border=\"1\" class=\"dataframe\">\n",
       "  <thead>\n",
       "    <tr style=\"text-align: right;\">\n",
       "      <th></th>\n",
       "      <th>country_code</th>\n",
       "      <th>country_name</th>\n",
       "      <th>year</th>\n",
       "      <th>emissions_kt</th>\n",
       "    </tr>\n",
       "  </thead>\n",
       "  <tbody>\n",
       "    <tr>\n",
       "      <th>13209</th>\n",
       "      <td>USA</td>\n",
       "      <td>United States</td>\n",
       "      <td>1960</td>\n",
       "      <td>2890696.100</td>\n",
       "    </tr>\n",
       "    <tr>\n",
       "      <th>13210</th>\n",
       "      <td>USA</td>\n",
       "      <td>United States</td>\n",
       "      <td>1961</td>\n",
       "      <td>2880505.507</td>\n",
       "    </tr>\n",
       "    <tr>\n",
       "      <th>13211</th>\n",
       "      <td>USA</td>\n",
       "      <td>United States</td>\n",
       "      <td>1962</td>\n",
       "      <td>2987207.873</td>\n",
       "    </tr>\n",
       "    <tr>\n",
       "      <th>13212</th>\n",
       "      <td>USA</td>\n",
       "      <td>United States</td>\n",
       "      <td>1963</td>\n",
       "      <td>3119230.874</td>\n",
       "    </tr>\n",
       "    <tr>\n",
       "      <th>13213</th>\n",
       "      <td>USA</td>\n",
       "      <td>United States</td>\n",
       "      <td>1964</td>\n",
       "      <td>3255995.306</td>\n",
       "    </tr>\n",
       "  </tbody>\n",
       "</table>\n",
       "</div>"
      ],
      "text/plain": [
       "      country_code   country_name  year  emissions_kt\n",
       "13209          USA  United States  1960   2890696.100\n",
       "13210          USA  United States  1961   2880505.507\n",
       "13211          USA  United States  1962   2987207.873\n",
       "13212          USA  United States  1963   3119230.874\n",
       "13213          USA  United States  1964   3255995.306"
      ]
     },
     "execution_count": 52,
     "metadata": {},
     "output_type": "execute_result"
    }
   ],
   "source": [
    "# Final checks\n",
    "emissions_clean.head()"
   ]
  },
  {
   "cell_type": "code",
   "execution_count": 53,
   "metadata": {},
   "outputs": [
    {
     "data": {
      "text/plain": [
       "Index(['country_code', 'country_name', 'year', 'emissions_kt'], dtype='object')"
      ]
     },
     "execution_count": 53,
     "metadata": {},
     "output_type": "execute_result"
    }
   ],
   "source": [
    "emissions_clean.columns"
   ]
  },
  {
   "cell_type": "code",
   "execution_count": 54,
   "metadata": {},
   "outputs": [
    {
     "data": {
      "text/plain": [
       "country_code     object\n",
       "country_name     object\n",
       "year              int64\n",
       "emissions_kt    float64\n",
       "dtype: object"
      ]
     },
     "execution_count": 54,
     "metadata": {},
     "output_type": "execute_result"
    }
   ],
   "source": [
    "emissions_clean.dtypes"
   ]
  },
  {
   "cell_type": "markdown",
   "metadata": {},
   "source": [
    "## 3. Define the Data Model\n",
    "#### 3.1 Conceptual data model\n",
    "Data model can be found in file 'data_model.pdf'\n",
    "\n",
    "#### 3.2 Mapping out data pipelines\n",
    "1. Data processing is run locally and clean files are uploaded into S3 bucket (s3://bucket-name-here/processed_data/)\n",
    "2. Staging tables are dropped and then created in Redshift\n",
    "3. Data from S3 is copied into staging tables\n",
    "4. Immigration fact table is created\n",
    "5. Passenger, arrivals, temperature, and emissions dimension tables are created\n",
    "6. Final tables are uploaded back into S3 bucket (s3://bucket-name-here/final_tables/)\n",
    "7. Data quality checks are run"
   ]
  },
  {
   "cell_type": "markdown",
   "metadata": {},
   "source": [
    "## 4. Run Pipelines to Model the Data"
   ]
  },
  {
   "cell_type": "markdown",
   "metadata": {},
   "source": [
    "#### 4.1 Create the data model\n",
    "create_tables.py and etl.py are the two scripts to be run to create the data model. Below is the code to execute the two scripts. %%time is included to track the time taken for each script to run."
   ]
  },
  {
   "cell_type": "code",
   "execution_count": 55,
   "metadata": {},
   "outputs": [
    {
     "name": "stdout",
     "output_type": "stream",
     "text": [
      "CPU times: user 72.2 ms, sys: 18.1 ms, total: 90.3 ms\n",
      "Wall time: 4.51 s\n"
     ]
    }
   ],
   "source": [
    "%%time\n",
    "!python create_tables.py"
   ]
  },
  {
   "cell_type": "code",
   "execution_count": 56,
   "metadata": {},
   "outputs": [
    {
     "name": "stdout",
     "output_type": "stream",
     "text": [
      "CPU times: user 254 ms, sys: 47.5 ms, total: 302 ms\n",
      "Wall time: 17 s\n"
     ]
    }
   ],
   "source": [
    "%%time\n",
    "!python etl.py"
   ]
  },
  {
   "cell_type": "markdown",
   "metadata": {},
   "source": [
    "#### 4.2 Data quality checks\n",
    "Data quality checks will ensure:\n",
    "1. Fact and dimension tables are not empty after triggering ETL pipeline\n",
    "2. Records in all fact and dimension tables are unique (there are no duplicates)\n",
    "\n",
    "data_quality_checks.py is the script to run to perform data quality checks. Below is the code to execute the script. Logging is included to make sure data quality check outcomes are clear."
   ]
  },
  {
   "cell_type": "code",
   "execution_count": 57,
   "metadata": {},
   "outputs": [],
   "source": [
    "from data_quality_checks import data_quality_checks"
   ]
  },
  {
   "cell_type": "code",
   "execution_count": 58,
   "metadata": {},
   "outputs": [
    {
     "name": "stderr",
     "output_type": "stream",
     "text": [
      "INFO:root:Performing data quality checks on fact_immigration...\n",
      "INFO:root:Checking if fact_immigration is not an empty table...\n",
      "INFO:root:Data quality check success, fact_immigration not empty.\n",
      "INFO:root:Checking if fact_immigration has duplicates...\n",
      "INFO:root:Data quality check success, fact_immigration has no duplicated data.\n",
      "INFO:root:Performing data quality checks on dim_passenger...\n",
      "INFO:root:Checking if dim_passenger is not an empty table...\n",
      "INFO:root:Data quality check success, dim_passenger not empty.\n",
      "INFO:root:Checking if dim_passenger has duplicates...\n",
      "INFO:root:Data quality check success, dim_passenger has no duplicated data.\n",
      "INFO:root:Performing data quality checks on dim_arrivals...\n",
      "INFO:root:Checking if dim_arrivals is not an empty table...\n",
      "INFO:root:Data quality check success, dim_arrivals not empty.\n",
      "INFO:root:Checking if dim_arrivals has duplicates...\n",
      "INFO:root:Data quality check success, dim_arrivals has no duplicated data.\n",
      "INFO:root:Performing data quality checks on dim_temperature...\n",
      "INFO:root:Checking if dim_temperature is not an empty table...\n",
      "INFO:root:Data quality check success, dim_temperature not empty.\n",
      "INFO:root:Checking if dim_temperature has duplicates...\n",
      "INFO:root:Data quality check success, dim_temperature has no duplicated data.\n",
      "INFO:root:Performing data quality checks on dim_emissions...\n",
      "INFO:root:Checking if dim_emissions is not an empty table...\n",
      "INFO:root:Data quality check success, dim_emissions not empty.\n",
      "INFO:root:Checking if dim_emissions has duplicates...\n",
      "INFO:root:Data quality check success, dim_emissions has no duplicated data.\n",
      "INFO:root:Data quality checks complete.\n"
     ]
    }
   ],
   "source": [
    "data_quality_checks()"
   ]
  },
  {
   "cell_type": "markdown",
   "metadata": {},
   "source": [
    "#### 4.3 Data dictionary\n",
    "Data dictionary can be found in file 'data_dictionary.pdf'."
   ]
  },
  {
   "cell_type": "markdown",
   "metadata": {},
   "source": [
    "## 5. Project Write Up\n",
    "### 5.1 Rationale for choice of tools and technologies\n",
    "1. AWS S3: S3 was used for data storage as it is highly scalable and can store large volumes of data. S3 also has a connection to Redshift, which makes querying data simpler and more efficient.\n",
    "2. AWS Redshift: Redshift was used to stage data and store final tables as it is optimised for handling, querying, and analysing large volumes of data, which this project has. Redshift also has a connection to other AWS services, if the user requires further data handling.\n",
    "3. Pandas: Pandas was used for the data processing step as it is simple to use and has multiple functionalities that can support data manipulation.\n",
    "### 5.2 How often data should be updated\n",
    "All data should be updated on a monthly basis if possible, to ensure data is always up to date for the climate model. Emissions data should be updated yearly. \n",
    "### 5.3 Problem scenarios\n",
    "##### Data was increased by 100x\n",
    "Redshift is able to handle larger datasets, however an increase in resources might be required. Additionally, using Spark to process larger datasets is recommended.\n",
    "##### Data populates a dashboard that must be updated on a daily basis by 7am every day\n",
    "Apache Airflow can be used to support this requirement. Apache Airflow allows the user to determine how frequent they'd like the ETL pipeline to run, and at whatever time they determine.\n",
    "##### The database needs to be accessed by 100+ people\n",
    "Redshift is a sufficient enough large-scale database and can be accessed by 100+ people simultaneously. It can support multiple users querying data concurrently"
   ]
  },
  {
   "cell_type": "code",
   "execution_count": null,
   "metadata": {},
   "outputs": [],
   "source": []
  }
 ],
 "metadata": {
  "kernelspec": {
   "display_name": "Python 3",
   "language": "python",
   "name": "python3"
  },
  "language_info": {
   "codemirror_mode": {
    "name": "ipython",
    "version": 3
   },
   "file_extension": ".py",
   "mimetype": "text/x-python",
   "name": "python",
   "nbconvert_exporter": "python",
   "pygments_lexer": "ipython3",
   "version": "3.6.3"
  }
 },
 "nbformat": 4,
 "nbformat_minor": 2
}
